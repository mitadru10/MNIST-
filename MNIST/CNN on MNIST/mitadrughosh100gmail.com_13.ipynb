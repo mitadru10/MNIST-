{
 "cells": [
  {
   "cell_type": "markdown",
   "metadata": {},
   "source": [
    "## Various CNN Networks On MNIST Data Set :"
   ]
  },
  {
   "cell_type": "code",
   "execution_count": 2,
   "metadata": {},
   "outputs": [
    {
     "name": "stderr",
     "output_type": "stream",
     "text": [
      "Using TensorFlow backend.\n"
     ]
    }
   ],
   "source": [
    "from __future__ import print_function\n",
    "from datetime import datetime\n",
    "import keras\n",
    "from keras.datasets import mnist\n",
    "from keras.models import Sequential\n",
    "from keras.layers import Dense, Dropout, Flatten\n",
    "from keras.layers import Conv2D, MaxPooling2D\n",
    "from keras import backend as K\n",
    "from keras.initializers import he_normal\n",
    "from keras.layers.normalization import BatchNormalization\n",
    "batch_size = 128\n",
    "num_classes = 10\n",
    "epochs = 12\n",
    "# input image dimensions\n",
    "img_rows, img_cols = 28, 28"
   ]
  },
  {
   "cell_type": "code",
   "execution_count": 4,
   "metadata": {},
   "outputs": [],
   "source": [
    "(x_train, y_train), (x_test, y_test) = mnist.load_data()"
   ]
  },
  {
   "cell_type": "code",
   "execution_count": 5,
   "metadata": {},
   "outputs": [
    {
     "name": "stdout",
     "output_type": "stream",
     "text": [
      "x_train shape: (60000, 28, 28, 1)\n",
      "60000 train samples\n",
      "10000 test samples\n"
     ]
    }
   ],
   "source": [
    "if K.image_data_format() == 'channels_first':\n",
    "    x_train = x_train.reshape(x_train.shape[0], 1, img_rows, img_cols)\n",
    "    x_test = x_test.reshape(x_test.shape[0], 1, img_rows, img_cols)\n",
    "    input_shape = (1, img_rows, img_cols)\n",
    "else:\n",
    "    x_train = x_train.reshape(x_train.shape[0], img_rows, img_cols, 1)\n",
    "    x_test = x_test.reshape(x_test.shape[0], img_rows, img_cols, 1)\n",
    "    input_shape = (img_rows, img_cols, 1)\n",
    "\n",
    "x_train = x_train.astype('float32')\n",
    "x_test = x_test.astype('float32')\n",
    "x_train /= 255\n",
    "x_test /= 255\n",
    "print('x_train shape:', x_train.shape)\n",
    "print(x_train.shape[0], 'train samples')\n",
    "print(x_test.shape[0], 'test samples')\n",
    "\n",
    "# convert class vectors to binary class matrices\n",
    "y_train = keras.utils.to_categorical(y_train, num_classes)\n",
    "y_test = keras.utils.to_categorical(y_test, num_classes)"
   ]
  },
  {
   "cell_type": "code",
   "execution_count": 6,
   "metadata": {},
   "outputs": [],
   "source": [
    "%matplotlib inline\n",
    "import matplotlib.pyplot as plt\n",
    "import numpy as np\n",
    "import time\n",
    "# https://gist.github.com/greydanus/f6eee59eaf1d90fcb3b534a25362cea4\n",
    "# https://stackoverflow.com/a/14434334\n",
    "# this function is used to update the plots for each epoch and error\n",
    "def plt_dynamic(x, vy, ty):\n",
    "  fig = plt.figure( facecolor='y', edgecolor='k')\n",
    "  plt.plot(x, vy, 'b', label=\"Validation Loss\")\n",
    "  plt.plot(x, ty, 'r', label=\"Train Loss\")\n",
    "  plt.xlabel('Epochs') \n",
    "  plt.ylabel('Categorical Crossentropy Loss')\n",
    "  plt.legend()\n",
    "  plt.grid()\n",
    "  plt.show()"
   ]
  },
  {
   "cell_type": "markdown",
   "metadata": {},
   "source": [
    "## 1st Model With 3 ConvNet & 3*3 Kernel Size :"
   ]
  },
  {
   "cell_type": "code",
   "execution_count": 7,
   "metadata": {},
   "outputs": [
    {
     "name": "stdout",
     "output_type": "stream",
     "text": [
      "Model: \"sequential_2\"\n",
      "_________________________________________________________________\n",
      "Layer (type)                 Output Shape              Param #   \n",
      "=================================================================\n",
      "conv2d_1 (Conv2D)            (None, 26, 26, 32)        320       \n",
      "_________________________________________________________________\n",
      "conv2d_2 (Conv2D)            (None, 24, 24, 64)        18496     \n",
      "_________________________________________________________________\n",
      "dropout_1 (Dropout)          (None, 24, 24, 64)        0         \n",
      "_________________________________________________________________\n",
      "conv2d_3 (Conv2D)            (None, 22, 22, 128)       73856     \n",
      "_________________________________________________________________\n",
      "max_pooling2d_1 (MaxPooling2 (None, 11, 11, 128)       0         \n",
      "_________________________________________________________________\n",
      "dropout_2 (Dropout)          (None, 11, 11, 128)       0         \n",
      "_________________________________________________________________\n",
      "flatten_1 (Flatten)          (None, 15488)             0         \n",
      "_________________________________________________________________\n",
      "dense_1 (Dense)              (None, 256)               3965184   \n",
      "_________________________________________________________________\n",
      "dropout_3 (Dropout)          (None, 256)               0         \n",
      "_________________________________________________________________\n",
      "dense_2 (Dense)              (None, 10)                2570      \n",
      "=================================================================\n",
      "Total params: 4,060,426\n",
      "Trainable params: 4,060,426\n",
      "Non-trainable params: 0\n",
      "_________________________________________________________________\n",
      "None\n"
     ]
    }
   ],
   "source": [
    "convnet=Sequential() # Initializing the model\n",
    "convnet.add(Conv2D(32,kernel_size=(3,3),activation='relu',input_shape=input_shape))\n",
    "convnet.add(Conv2D(64,kernel_size=(3,3),activation='relu'))\n",
    "convnet.add(Dropout(0.25))\n",
    "convnet.add(Conv2D(128,kernel_size=(3,3),activation='relu'))\n",
    "#maxpooling by (2,2 ) ,dropout,flattening\n",
    "convnet.add(MaxPooling2D(pool_size=(2,2)))\n",
    "convnet.add(Dropout(0.25))\n",
    "convnet.add(Flatten())\n",
    "#hidden_layer\n",
    "convnet.add(Dense(256,activation='relu',kernel_initializer=he_normal(seed=None)))\n",
    "convnet.add(Dropout(0.5))\n",
    "convnet.add(Dense(num_classes,activation='softmax'))\n",
    "print(convnet.summary())"
   ]
  },
  {
   "cell_type": "code",
   "execution_count": 8,
   "metadata": {},
   "outputs": [
    {
     "name": "stdout",
     "output_type": "stream",
     "text": [
      "Train on 60000 samples, validate on 10000 samples\n",
      "Epoch 1/12\n",
      "60000/60000 [==============================] - 231s 4ms/step - loss: 0.1775 - accuracy: 0.9453 - val_loss: 0.0435 - val_accuracy: 0.9857\n",
      "Epoch 2/12\n",
      "60000/60000 [==============================] - 228s 4ms/step - loss: 0.0601 - accuracy: 0.9823 - val_loss: 0.0385 - val_accuracy: 0.9874\n",
      "Epoch 3/12\n",
      "60000/60000 [==============================] - 226s 4ms/step - loss: 0.0467 - accuracy: 0.9857 - val_loss: 0.0335 - val_accuracy: 0.9892\n",
      "Epoch 4/12\n",
      "60000/60000 [==============================] - 228s 4ms/step - loss: 0.0365 - accuracy: 0.9886 - val_loss: 0.0235 - val_accuracy: 0.9918\n",
      "Epoch 5/12\n",
      "60000/60000 [==============================] - 237s 4ms/step - loss: 0.0288 - accuracy: 0.9912 - val_loss: 0.0224 - val_accuracy: 0.9924\n",
      "Epoch 6/12\n",
      "60000/60000 [==============================] - 237s 4ms/step - loss: 0.0241 - accuracy: 0.9923 - val_loss: 0.0224 - val_accuracy: 0.9929\n",
      "Epoch 7/12\n",
      "60000/60000 [==============================] - 231s 4ms/step - loss: 0.0221 - accuracy: 0.9929 - val_loss: 0.0254 - val_accuracy: 0.9927\n",
      "Epoch 8/12\n",
      "60000/60000 [==============================] - 225s 4ms/step - loss: 0.0212 - accuracy: 0.9932 - val_loss: 0.0258 - val_accuracy: 0.9927\n",
      "Epoch 9/12\n",
      "60000/60000 [==============================] - 230s 4ms/step - loss: 0.0184 - accuracy: 0.9944 - val_loss: 0.0222 - val_accuracy: 0.9936\n",
      "Epoch 10/12\n",
      "60000/60000 [==============================] - 233s 4ms/step - loss: 0.0152 - accuracy: 0.9951 - val_loss: 0.0241 - val_accuracy: 0.9936\n",
      "Epoch 11/12\n",
      "60000/60000 [==============================] - 222s 4ms/step - loss: 0.0151 - accuracy: 0.9952 - val_loss: 0.0253 - val_accuracy: 0.9922\n",
      "Epoch 12/12\n",
      "60000/60000 [==============================] - 222s 4ms/step - loss: 0.0145 - accuracy: 0.9953 - val_loss: 0.0286 - val_accuracy: 0.9926\n"
     ]
    }
   ],
   "source": [
    "convnet.compile(optimizer=keras.optimizers.Adam(),loss=keras.losses.categorical_crossentropy,metrics=['accuracy'])\n",
    "convnet_history=convnet.fit(x_train,y_train,batch_size=batch_size,epochs=epochs,verbose=1,validation_data=(x_test, y_test))"
   ]
  },
  {
   "cell_type": "code",
   "execution_count": 10,
   "metadata": {},
   "outputs": [
    {
     "name": "stdout",
     "output_type": "stream",
     "text": [
      "test score : 0.028591023394818865\n",
      "test sccuracy : 0.9926000237464905\n"
     ]
    },
    {
     "data": {
      "image/png": "[encoded data removed]",
      "text/plain": [
       "<Figure size 432x288 with 1 Axes>"
      ]
     },
     "metadata": {},
     "output_type": "display_data"
    }
   ],
   "source": [
    "score=convnet.evaluate(x_test,y_test,verbose=0)\n",
    "test_score=score[0]\n",
    "test_accuracy=score[1]\n",
    "train_accuracy=max(convnet_history.history['accuracy'])\n",
    "print('test score :',test_score)\n",
    "print('test sccuracy :',test_accuracy)\n",
    "# error plot\n",
    "x=list(range(1,epochs+1))\n",
    "vy=convnet_history.history['val_loss'] #validation loss\n",
    "ty=convnet_history.history['loss'] # train loss\n",
    "plt_dynamic(x, vy, ty)"
   ]
  },
  {
   "cell_type": "markdown",
   "metadata": {},
   "source": [
    "## 2nd Model CNN with 5 ConvNet & 5*5 Kernel Size :"
   ]
  },
  {
   "cell_type": "code",
   "execution_count": 11,
   "metadata": {},
   "outputs": [
    {
     "name": "stdout",
     "output_type": "stream",
     "text": [
      "Model: \"sequential_3\"\n",
      "_________________________________________________________________\n",
      "Layer (type)                 Output Shape              Param #   \n",
      "=================================================================\n",
      "conv2d_4 (Conv2D)            (None, 28, 28, 32)        832       \n",
      "_________________________________________________________________\n",
      "conv2d_5 (Conv2D)            (None, 28, 28, 64)        51264     \n",
      "_________________________________________________________________\n",
      "max_pooling2d_2 (MaxPooling2 (None, 14, 14, 64)        0         \n",
      "_________________________________________________________________\n",
      "dropout_4 (Dropout)          (None, 14, 14, 64)        0         \n",
      "_________________________________________________________________\n",
      "conv2d_6 (Conv2D)            (None, 14, 14, 96)        153696    \n",
      "_________________________________________________________________\n",
      "max_pooling2d_3 (MaxPooling2 (None, 7, 7, 96)          0         \n",
      "_________________________________________________________________\n",
      "dropout_5 (Dropout)          (None, 7, 7, 96)          0         \n",
      "_________________________________________________________________\n",
      "conv2d_7 (Conv2D)            (None, 7, 7, 128)         307328    \n",
      "_________________________________________________________________\n",
      "max_pooling2d_4 (MaxPooling2 (None, 3, 3, 128)         0         \n",
      "_________________________________________________________________\n",
      "dropout_6 (Dropout)          (None, 3, 3, 128)         0         \n",
      "_________________________________________________________________\n",
      "conv2d_8 (Conv2D)            (None, 3, 3, 164)         524964    \n",
      "_________________________________________________________________\n",
      "max_pooling2d_5 (MaxPooling2 (None, 1, 1, 164)         0         \n",
      "_________________________________________________________________\n",
      "dropout_7 (Dropout)          (None, 1, 1, 164)         0         \n",
      "_________________________________________________________________\n",
      "flatten_2 (Flatten)          (None, 164)               0         \n",
      "_________________________________________________________________\n",
      "dense_3 (Dense)              (None, 256)               42240     \n",
      "_________________________________________________________________\n",
      "batch_normalization_1 (Batch (None, 256)               1024      \n",
      "_________________________________________________________________\n",
      "dropout_8 (Dropout)          (None, 256)               0         \n",
      "_________________________________________________________________\n",
      "dense_4 (Dense)              (None, 10)                2570      \n",
      "=================================================================\n",
      "Total params: 1,083,918\n",
      "Trainable params: 1,083,406\n",
      "Non-trainable params: 512\n",
      "_________________________________________________________________\n",
      "None\n"
     ]
    }
   ],
   "source": [
    "convnet2=Sequential() # Initializing the model\n",
    "# First ConvNet\n",
    "convnet2.add(Conv2D(32,kernel_size=(5,5),activation='relu',padding='same',input_shape=input_shape))\n",
    "convnet2.add(Conv2D(64,kernel_size=(5,5),padding='same',activation='relu'))#Second Convnet\n",
    "convnet2.add(MaxPooling2D(pool_size=(2,2)))\n",
    "convnet2.add(Dropout(0.25))\n",
    "convnet2.add(Conv2D(96,kernel_size=(5,5),padding='same',activation='relu'))  # 3rd ConvNet\n",
    "#maxpooling by (2,2 ) ,dropout,flattening\n",
    "convnet2.add(MaxPooling2D(pool_size=(2,2)))\n",
    "convnet2.add(Dropout(0.25))\n",
    "convnet2.add(Conv2D(128,kernel_size=(5,5),padding='same',activation='relu'))#fourth Convnet\n",
    "convnet2.add(MaxPooling2D(pool_size=(2,2)))\n",
    "convnet2.add(Dropout(0.25))\n",
    "convnet2.add(Conv2D(164,kernel_size=(5,5),padding='same',activation='relu'))#fifth Convnet\n",
    "convnet2.add(MaxPooling2D(pool_size=(2,2)))\n",
    "convnet2.add(Dropout(0.25))\n",
    "convnet2.add(Flatten())\n",
    "#hidden_layer\n",
    "convnet2.add(Dense(256,activation='relu',kernel_initializer=he_normal(seed=None)))\n",
    "convnet2.add(BatchNormalization())\n",
    "convnet2.add(Dropout(0.5))\n",
    "convnet2.add(Dense(num_classes,activation='softmax'))\n",
    "print(convnet2.summary())"
   ]
  },
  {
   "cell_type": "code",
   "execution_count": 12,
   "metadata": {},
   "outputs": [
    {
     "name": "stdout",
     "output_type": "stream",
     "text": [
      "Train on 60000 samples, validate on 10000 samples\n",
      "Epoch 1/12\n",
      "60000/60000 [==============================] - 294s 5ms/step - loss: 0.2618 - accuracy: 0.9147 - val_loss: 0.0633 - val_accuracy: 0.9804\n",
      "Epoch 2/12\n",
      "60000/60000 [==============================] - 290s 5ms/step - loss: 0.0630 - accuracy: 0.9814 - val_loss: 0.0236 - val_accuracy: 0.9920\n",
      "Epoch 3/12\n",
      "60000/60000 [==============================] - 288s 5ms/step - loss: 0.0497 - accuracy: 0.9856 - val_loss: 0.0186 - val_accuracy: 0.9933\n",
      "Epoch 4/12\n",
      "60000/60000 [==============================] - 290s 5ms/step - loss: 0.0381 - accuracy: 0.9888 - val_loss: 0.0280 - val_accuracy: 0.9924\n",
      "Epoch 5/12\n",
      "60000/60000 [==============================] - 289s 5ms/step - loss: 0.0342 - accuracy: 0.9896 - val_loss: 0.0222 - val_accuracy: 0.9934\n",
      "Epoch 6/12\n",
      "60000/60000 [==============================] - 290s 5ms/step - loss: 0.0303 - accuracy: 0.9914 - val_loss: 0.0280 - val_accuracy: 0.9925\n",
      "Epoch 7/12\n",
      "60000/60000 [==============================] - 289s 5ms/step - loss: 0.0273 - accuracy: 0.9920 - val_loss: 0.0204 - val_accuracy: 0.9945\n",
      "Epoch 8/12\n",
      "60000/60000 [==============================] - 290s 5ms/step - loss: 0.0244 - accuracy: 0.9930 - val_loss: 0.0236 - val_accuracy: 0.9930\n",
      "Epoch 9/12\n",
      "60000/60000 [==============================] - 291s 5ms/step - loss: 0.0215 - accuracy: 0.9937 - val_loss: 0.0196 - val_accuracy: 0.9943\n",
      "Epoch 10/12\n",
      "60000/60000 [==============================] - 291s 5ms/step - loss: 0.0203 - accuracy: 0.9939 - val_loss: 0.0262 - val_accuracy: 0.9932\n",
      "Epoch 11/12\n",
      "60000/60000 [==============================] - 289s 5ms/step - loss: 0.0204 - accuracy: 0.9941 - val_loss: 0.0194 - val_accuracy: 0.9943\n",
      "Epoch 12/12\n",
      "60000/60000 [==============================] - 291s 5ms/step - loss: 0.0189 - accuracy: 0.9943 - val_loss: 0.0209 - val_accuracy: 0.9945\n"
     ]
    }
   ],
   "source": [
    "convnet2.compile(optimizer=keras.optimizers.Adam(),loss=keras.losses.categorical_crossentropy,metrics=['accuracy'])\n",
    "convnet2_history=convnet2.fit(x_train,y_train,batch_size=batch_size,epochs=epochs,verbose=1,validation_data=(x_test, y_test))"
   ]
  },
  {
   "cell_type": "code",
   "execution_count": 13,
   "metadata": {},
   "outputs": [
    {
     "name": "stdout",
     "output_type": "stream",
     "text": [
      "test score : 0.020858116581862943\n",
      "test Accuracy : 0.9944999814033508\n"
     ]
    },
    {
     "data": {
      "image/png": "[encoded data removed]",
      "text/plain": [
       "<Figure size 432x288 with 1 Axes>"
      ]
     },
     "metadata": {},
     "output_type": "display_data"
    }
   ],
   "source": [
    "#evaluating model\n",
    "score=convnet2.evaluate(x_test,y_test,verbose=0)\n",
    "test_score2=score[0]\n",
    "test_accuracy2=score[1]\n",
    "train_accuracy2=max(convnet2_history.history['accuracy'])\n",
    "print('test score :',test_score2)\n",
    "print('test Accuracy :',test_accuracy2)\n",
    "# error plot\n",
    "x=list(range(1,epochs+1))\n",
    "vy=convnet2_history.history['val_loss'] #validation loss\n",
    "ty=convnet2_history.history['loss'] # train loss\n",
    "plt_dynamic(x, vy, ty)"
   ]
  },
  {
   "cell_type": "markdown",
   "metadata": {},
   "source": [
    "## 3rd Model CNN with 7 ConvNet & 2*2 kernel size :"
   ]
  },
  {
   "cell_type": "code",
   "execution_count": 15,
   "metadata": {},
   "outputs": [
    {
     "name": "stdout",
     "output_type": "stream",
     "text": [
      "Model: \"sequential_5\"\n",
      "_________________________________________________________________\n",
      "Layer (type)                 Output Shape              Param #   \n",
      "=================================================================\n",
      "conv2d_16 (Conv2D)           (None, 28, 28, 16)        80        \n",
      "_________________________________________________________________\n",
      "conv2d_17 (Conv2D)           (None, 14, 14, 32)        2080      \n",
      "_________________________________________________________________\n",
      "conv2d_18 (Conv2D)           (None, 14, 14, 64)        8256      \n",
      "_________________________________________________________________\n",
      "dropout_12 (Dropout)         (None, 14, 14, 64)        0         \n",
      "_________________________________________________________________\n",
      "conv2d_19 (Conv2D)           (None, 14, 14, 96)        24672     \n",
      "_________________________________________________________________\n",
      "max_pooling2d_10 (MaxPooling (None, 7, 7, 96)          0         \n",
      "_________________________________________________________________\n",
      "dropout_13 (Dropout)         (None, 7, 7, 96)          0         \n",
      "_________________________________________________________________\n",
      "conv2d_20 (Conv2D)           (None, 7, 7, 128)         49280     \n",
      "_________________________________________________________________\n",
      "max_pooling2d_11 (MaxPooling (None, 3, 3, 128)         0         \n",
      "_________________________________________________________________\n",
      "dropout_14 (Dropout)         (None, 3, 3, 128)         0         \n",
      "_________________________________________________________________\n",
      "conv2d_21 (Conv2D)           (None, 3, 3, 164)         84132     \n",
      "_________________________________________________________________\n",
      "conv2d_22 (Conv2D)           (None, 3, 3, 164)         107748    \n",
      "_________________________________________________________________\n",
      "max_pooling2d_12 (MaxPooling (None, 1, 1, 164)         0         \n",
      "_________________________________________________________________\n",
      "dropout_15 (Dropout)         (None, 1, 1, 164)         0         \n",
      "_________________________________________________________________\n",
      "flatten_3 (Flatten)          (None, 164)               0         \n",
      "_________________________________________________________________\n",
      "dense_5 (Dense)              (None, 256)               42240     \n",
      "_________________________________________________________________\n",
      "batch_normalization_2 (Batch (None, 256)               1024      \n",
      "_________________________________________________________________\n",
      "dropout_16 (Dropout)         (None, 256)               0         \n",
      "_________________________________________________________________\n",
      "dense_6 (Dense)              (None, 148)               38036     \n",
      "_________________________________________________________________\n",
      "batch_normalization_3 (Batch (None, 148)               592       \n",
      "_________________________________________________________________\n",
      "dropout_17 (Dropout)         (None, 148)               0         \n",
      "_________________________________________________________________\n",
      "dense_7 (Dense)              (None, 128)               19072     \n",
      "_________________________________________________________________\n",
      "batch_normalization_4 (Batch (None, 128)               512       \n",
      "_________________________________________________________________\n",
      "dropout_18 (Dropout)         (None, 128)               0         \n",
      "_________________________________________________________________\n",
      "dense_8 (Dense)              (None, 10)                1290      \n",
      "=================================================================\n",
      "Total params: 379,014\n",
      "Trainable params: 377,950\n",
      "Non-trainable params: 1,064\n",
      "_________________________________________________________________\n",
      "None\n"
     ]
    }
   ],
   "source": [
    "convnet3=Sequential() # Initializing the model\n",
    "# First ConvNet\n",
    "convnet3.add(Conv2D(16,kernel_size=(2,2),activation='relu',padding='same',strides=(1,1),input_shape=input_shape))\n",
    "convnet3.add(Conv2D(32,kernel_size=(2,2),padding='same',strides=(2,2),activation='relu'))#Second Convnet\n",
    "convnet3.add(Conv2D(64,kernel_size=(2,2),padding='same',activation='relu'))  # 3rd ConvNet\n",
    "convnet3.add(Dropout(0.15))\n",
    "convnet3.add(Conv2D(96,kernel_size=(2,2),padding='same',activation='relu'))#fourth Convnet\n",
    "convnet3.add(MaxPooling2D(pool_size=(2,2)))\n",
    "convnet3.add(Dropout(0.39))\n",
    "convnet3.add(Conv2D(128,kernel_size=(2,2),padding='same',activation='relu'))#fifth Convnet\n",
    "convnet3.add(MaxPooling2D(pool_size=(2,2)))\n",
    "convnet3.add(Dropout(0.3))\n",
    "convnet3.add(Conv2D(164,kernel_size=(2,2),padding='same',activation='relu'))#sixth Convnet\n",
    "convnet3.add(Conv2D(164,kernel_size=(2,2),padding='same',strides=(1,1),activation='relu'))#seventh Convnet\n",
    "convnet3.add(MaxPooling2D(pool_size=(2,2)))\n",
    "convnet3.add(Dropout(0.4))\n",
    "convnet3.add(Flatten())\n",
    "#hidden_layer\n",
    "convnet3.add(Dense(256,activation='relu',kernel_initializer=he_normal(seed=None)))#1 hidden layer\n",
    "convnet3.add(BatchNormalization())\n",
    "convnet3.add(Dropout(0.4))\n",
    "convnet3.add(Dense(148,activation='relu',kernel_initializer=he_normal(seed=None)))#2 hidden layer\n",
    "convnet3.add(BatchNormalization())\n",
    "convnet3.add(Dropout(0.3))\n",
    "convnet3.add(Dense(128,activation='relu',kernel_initializer=he_normal(seed=None)))#3 hidden layer\n",
    "convnet3.add(BatchNormalization())\n",
    "convnet3.add(Dropout(0.4))\n",
    "convnet3.add(Dense(num_classes,activation='softmax'))\n",
    "print(convnet3.summary())"
   ]
  },
  {
   "cell_type": "code",
   "execution_count": 16,
   "metadata": {},
   "outputs": [
    {
     "name": "stdout",
     "output_type": "stream",
     "text": [
      "Train on 60000 samples, validate on 10000 samples\n",
      "Epoch 1/12\n",
      "60000/60000 [==============================] - 121s 2ms/step - loss: 1.5887 - accuracy: 0.4850 - val_loss: 0.3675 - val_accuracy: 0.8998\n",
      "Epoch 2/12\n",
      "60000/60000 [==============================] - 118s 2ms/step - loss: 0.2623 - accuracy: 0.9277 - val_loss: 0.0670 - val_accuracy: 0.9809\n",
      "Epoch 3/12\n",
      "60000/60000 [==============================] - 118s 2ms/step - loss: 0.1499 - accuracy: 0.9601 - val_loss: 0.0532 - val_accuracy: 0.9863\n",
      "Epoch 4/12\n",
      "60000/60000 [==============================] - 118s 2ms/step - loss: 0.1145 - accuracy: 0.9696 - val_loss: 0.0424 - val_accuracy: 0.9885\n",
      "Epoch 5/12\n",
      "60000/60000 [==============================] - 118s 2ms/step - loss: 0.1007 - accuracy: 0.9742 - val_loss: 0.0431 - val_accuracy: 0.9892\n",
      "Epoch 6/12\n",
      "60000/60000 [==============================] - 118s 2ms/step - loss: 0.0878 - accuracy: 0.9768 - val_loss: 0.0310 - val_accuracy: 0.9908\n",
      "Epoch 7/12\n",
      "60000/60000 [==============================] - 118s 2ms/step - loss: 0.0761 - accuracy: 0.9794 - val_loss: 0.0404 - val_accuracy: 0.9898\n",
      "Epoch 8/12\n",
      "60000/60000 [==============================] - 118s 2ms/step - loss: 0.0729 - accuracy: 0.9812 - val_loss: 0.0320 - val_accuracy: 0.9913\n",
      "Epoch 9/12\n",
      "60000/60000 [==============================] - 118s 2ms/step - loss: 0.0658 - accuracy: 0.9834 - val_loss: 0.0293 - val_accuracy: 0.9922\n",
      "Epoch 10/12\n",
      "60000/60000 [==============================] - 118s 2ms/step - loss: 0.0651 - accuracy: 0.9829 - val_loss: 0.0388 - val_accuracy: 0.9895\n",
      "Epoch 11/12\n",
      "60000/60000 [==============================] - 119s 2ms/step - loss: 0.0597 - accuracy: 0.9844 - val_loss: 0.0268 - val_accuracy: 0.9927\n",
      "Epoch 12/12\n",
      "60000/60000 [==============================] - 118s 2ms/step - loss: 0.0555 - accuracy: 0.9857 - val_loss: 0.0276 - val_accuracy: 0.9928\n"
     ]
    }
   ],
   "source": [
    "convnet3.compile(optimizer=keras.optimizers.Adam(),loss=keras.losses.categorical_crossentropy,metrics=['accuracy'])\n",
    "convnet3_history=convnet3.fit(x_train,y_train,batch_size=batch_size,epochs=epochs,verbose=1,validation_data=(x_test, y_test))"
   ]
  },
  {
   "cell_type": "code",
   "execution_count": 17,
   "metadata": {},
   "outputs": [
    {
     "name": "stdout",
     "output_type": "stream",
     "text": [
      "test score : 0.027557419139193372\n",
      "test Accuracy : 0.9927999973297119\n"
     ]
    },
    {
     "data": {
      "image/png": "[encoded data removed]",
      "text/plain": [
       "<Figure size 432x288 with 1 Axes>"
      ]
     },
     "metadata": {},
     "output_type": "display_data"
    }
   ],
   "source": [
    "score=convnet3.evaluate(x_test,y_test,verbose=0)\n",
    "test_score3=score[0]\n",
    "test_accuracy3=score[1]\n",
    "train_accuracy3=max(convnet3_history.history['accuracy'])\n",
    "print('test score :',test_score3)\n",
    "print('test Accuracy :',test_accuracy3)\n",
    "# error plot\n",
    "x=list(range(1,epochs+1))\n",
    "vy=convnet3_history.history['val_loss'] #validation loss\n",
    "ty=convnet3_history.history['loss'] # train loss\n",
    "plt_dynamic(x, vy, ty)"
   ]
  },
  {
   "cell_type": "markdown",
   "metadata": {},
   "source": [
    "## Conclusion :"
   ]
  },
  {
   "cell_type": "code",
   "execution_count": 18,
   "metadata": {},
   "outputs": [
    {
     "name": "stdout",
     "output_type": "stream",
     "text": [
      "+--------+--------------------------+-------------------+--------------------+\n",
      "| INDEX. |        MODEL_NAME        | TRAINING ACCURACY |  TESTING ACCURACY  |\n",
      "+--------+--------------------------+-------------------+--------------------+\n",
      "|   1    | 3ConvNet with kernel 3x3 |     0.9952833     | 0.9926000237464905 |\n",
      "|   2    | 5ConvNet with kernel 5x5 |     0.99431664    | 0.9944999814033508 |\n",
      "|   3    | 7ConvNet with kernel 2x2 |     0.9856667     | 0.9927999973297119 |\n",
      "+--------+--------------------------+-------------------+--------------------+\n"
     ]
    }
   ],
   "source": [
    "from prettytable import PrettyTable\n",
    "models=['3ConvNet with kernel 3x3',\n",
    "        '5ConvNet with kernel 5x5',\n",
    "        '7ConvNet with kernel 2x2']\n",
    "training_accuracy=[train_accuracy,train_accuracy2,train_accuracy3]\n",
    "test_accuracy=[test_accuracy,test_accuracy2,test_accuracy3]\n",
    "INDEX = [1,2,3]\n",
    "# Initializing prettytable\n",
    "Model_Performance = PrettyTable()\n",
    "# Adding columns\n",
    "Model_Performance.add_column(\"INDEX.\",INDEX)\n",
    "Model_Performance.add_column(\"MODEL_NAME\",models)\n",
    "Model_Performance.add_column(\"TRAINING ACCURACY\",training_accuracy)\n",
    "Model_Performance.add_column(\"TESTING ACCURACY\",test_accuracy)\n",
    "#Model_Performance.add_column(\"TEST SCORE\",test_score)\n",
    "\n",
    "# Printing the Model_Performance\n",
    "print(Model_Performance)"
   ]
  }
 ],
 "metadata": {
  "colab": {
   "collapsed_sections": [],
   "name": "CNN_MNIST.ipynb",
   "provenance": [],
   "version": "0.3.2"
  },
  "kernelspec": {
   "display_name": "Python 3",
   "language": "python",
   "name": "python3"
  },
  "language_info": {
   "codemirror_mode": {
    "name": "ipython",
    "version": 3
   },
   "file_extension": ".py",
   "mimetype": "text/x-python",
   "name": "python",
   "nbconvert_exporter": "python",
   "pygments_lexer": "ipython3",
   "version": "3.7.4"
  }
 },
 "nbformat": 4,
 "nbformat_minor": 1
}
